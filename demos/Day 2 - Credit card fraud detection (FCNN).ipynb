{
 "cells": [
  {
   "cell_type": "code",
   "execution_count": 1,
   "metadata": {},
   "outputs": [
    {
     "name": "stderr",
     "output_type": "stream",
     "text": [
      "/Users/abulbasar/anaconda3/lib/python3.6/site-packages/h5py/__init__.py:36: FutureWarning: Conversion of the second argument of issubdtype from `float` to `np.floating` is deprecated. In future, it will be treated as `np.float64 == np.dtype(float).type`.\n",
      "  from ._conv import register_converters as _register_converters\n",
      "Using TensorFlow backend.\n"
     ]
    }
   ],
   "source": [
    "import pandas as pd\n",
    "import numpy as np\n",
    "import tensorflow as tf\n",
    "import keras\n",
    "from keras.layers import InputLayer, Dense, Dropout\n",
    "\n",
    "import matplotlib.pyplot as plt\n",
    "\n",
    "import math\n",
    "\n",
    "from time import time\n",
    "\n",
    "from sklearn.preprocessing import StandardScaler\n",
    "\n",
    "from sklearn.metrics import confusion_matrix, recall_score, precision_score\n",
    "from mlxtend.plotting import plot_confusion_matrix\n",
    "\n",
    "%matplotlib inline"
   ]
  },
  {
   "cell_type": "code",
   "execution_count": 2,
   "metadata": {},
   "outputs": [
    {
     "name": "stdout",
     "output_type": "stream",
     "text": [
      "<class 'pandas.core.frame.DataFrame'>\n",
      "RangeIndex: 284807 entries, 0 to 284806\n",
      "Data columns (total 31 columns):\n",
      "Time      284807 non-null float64\n",
      "V1        284807 non-null float64\n",
      "V2        284807 non-null float64\n",
      "V3        284807 non-null float64\n",
      "V4        284807 non-null float64\n",
      "V5        284807 non-null float64\n",
      "V6        284807 non-null float64\n",
      "V7        284807 non-null float64\n",
      "V8        284807 non-null float64\n",
      "V9        284807 non-null float64\n",
      "V10       284807 non-null float64\n",
      "V11       284807 non-null float64\n",
      "V12       284807 non-null float64\n",
      "V13       284807 non-null float64\n",
      "V14       284807 non-null float64\n",
      "V15       284807 non-null float64\n",
      "V16       284807 non-null float64\n",
      "V17       284807 non-null float64\n",
      "V18       284807 non-null float64\n",
      "V19       284807 non-null float64\n",
      "V20       284807 non-null float64\n",
      "V21       284807 non-null float64\n",
      "V22       284807 non-null float64\n",
      "V23       284807 non-null float64\n",
      "V24       284807 non-null float64\n",
      "V25       284807 non-null float64\n",
      "V26       284807 non-null float64\n",
      "V27       284807 non-null float64\n",
      "V28       284807 non-null float64\n",
      "Amount    284807 non-null float64\n",
      "Class     284807 non-null int64\n",
      "dtypes: float64(30), int64(1)\n",
      "memory usage: 67.4 MB\n"
     ]
    }
   ],
   "source": [
    "df = pd.read_csv(\"/data/creditcard-fraud.csv\")\n",
    "df.info()"
   ]
  },
  {
   "cell_type": "code",
   "execution_count": 11,
   "metadata": {},
   "outputs": [
    {
     "data": {
      "text/html": [
       "<div>\n",
       "<style scoped>\n",
       "    .dataframe tbody tr th:only-of-type {\n",
       "        vertical-align: middle;\n",
       "    }\n",
       "\n",
       "    .dataframe tbody tr th {\n",
       "        vertical-align: top;\n",
       "    }\n",
       "\n",
       "    .dataframe thead th {\n",
       "        text-align: right;\n",
       "    }\n",
       "</style>\n",
       "<table border=\"1\" class=\"dataframe\">\n",
       "  <thead>\n",
       "    <tr style=\"text-align: right;\">\n",
       "      <th></th>\n",
       "      <th>Time</th>\n",
       "      <th>V1</th>\n",
       "      <th>V2</th>\n",
       "      <th>V3</th>\n",
       "      <th>V4</th>\n",
       "      <th>V5</th>\n",
       "      <th>V6</th>\n",
       "      <th>V7</th>\n",
       "      <th>V8</th>\n",
       "      <th>V9</th>\n",
       "      <th>...</th>\n",
       "      <th>V21</th>\n",
       "      <th>V22</th>\n",
       "      <th>V23</th>\n",
       "      <th>V24</th>\n",
       "      <th>V25</th>\n",
       "      <th>V26</th>\n",
       "      <th>V27</th>\n",
       "      <th>V28</th>\n",
       "      <th>Amount</th>\n",
       "      <th>Class</th>\n",
       "    </tr>\n",
       "  </thead>\n",
       "  <tbody>\n",
       "    <tr>\n",
       "      <th>count</th>\n",
       "      <td>284807.000000</td>\n",
       "      <td>2.848070e+05</td>\n",
       "      <td>2.848070e+05</td>\n",
       "      <td>2.848070e+05</td>\n",
       "      <td>2.848070e+05</td>\n",
       "      <td>2.848070e+05</td>\n",
       "      <td>2.848070e+05</td>\n",
       "      <td>2.848070e+05</td>\n",
       "      <td>2.848070e+05</td>\n",
       "      <td>2.848070e+05</td>\n",
       "      <td>...</td>\n",
       "      <td>2.848070e+05</td>\n",
       "      <td>2.848070e+05</td>\n",
       "      <td>2.848070e+05</td>\n",
       "      <td>2.848070e+05</td>\n",
       "      <td>2.848070e+05</td>\n",
       "      <td>2.848070e+05</td>\n",
       "      <td>2.848070e+05</td>\n",
       "      <td>2.848070e+05</td>\n",
       "      <td>284807.000000</td>\n",
       "      <td>284807.000000</td>\n",
       "    </tr>\n",
       "    <tr>\n",
       "      <th>mean</th>\n",
       "      <td>94813.859575</td>\n",
       "      <td>3.919560e-15</td>\n",
       "      <td>5.688174e-16</td>\n",
       "      <td>-8.769071e-15</td>\n",
       "      <td>2.782312e-15</td>\n",
       "      <td>-1.552563e-15</td>\n",
       "      <td>2.010663e-15</td>\n",
       "      <td>-1.694249e-15</td>\n",
       "      <td>-1.927028e-16</td>\n",
       "      <td>-3.137024e-15</td>\n",
       "      <td>...</td>\n",
       "      <td>1.537294e-16</td>\n",
       "      <td>7.959909e-16</td>\n",
       "      <td>5.367590e-16</td>\n",
       "      <td>4.458112e-15</td>\n",
       "      <td>1.453003e-15</td>\n",
       "      <td>1.699104e-15</td>\n",
       "      <td>-3.660161e-16</td>\n",
       "      <td>-1.206049e-16</td>\n",
       "      <td>88.349619</td>\n",
       "      <td>0.001727</td>\n",
       "    </tr>\n",
       "    <tr>\n",
       "      <th>std</th>\n",
       "      <td>47488.145955</td>\n",
       "      <td>1.958696e+00</td>\n",
       "      <td>1.651309e+00</td>\n",
       "      <td>1.516255e+00</td>\n",
       "      <td>1.415869e+00</td>\n",
       "      <td>1.380247e+00</td>\n",
       "      <td>1.332271e+00</td>\n",
       "      <td>1.237094e+00</td>\n",
       "      <td>1.194353e+00</td>\n",
       "      <td>1.098632e+00</td>\n",
       "      <td>...</td>\n",
       "      <td>7.345240e-01</td>\n",
       "      <td>7.257016e-01</td>\n",
       "      <td>6.244603e-01</td>\n",
       "      <td>6.056471e-01</td>\n",
       "      <td>5.212781e-01</td>\n",
       "      <td>4.822270e-01</td>\n",
       "      <td>4.036325e-01</td>\n",
       "      <td>3.300833e-01</td>\n",
       "      <td>250.120109</td>\n",
       "      <td>0.041527</td>\n",
       "    </tr>\n",
       "    <tr>\n",
       "      <th>min</th>\n",
       "      <td>0.000000</td>\n",
       "      <td>-5.640751e+01</td>\n",
       "      <td>-7.271573e+01</td>\n",
       "      <td>-4.832559e+01</td>\n",
       "      <td>-5.683171e+00</td>\n",
       "      <td>-1.137433e+02</td>\n",
       "      <td>-2.616051e+01</td>\n",
       "      <td>-4.355724e+01</td>\n",
       "      <td>-7.321672e+01</td>\n",
       "      <td>-1.343407e+01</td>\n",
       "      <td>...</td>\n",
       "      <td>-3.483038e+01</td>\n",
       "      <td>-1.093314e+01</td>\n",
       "      <td>-4.480774e+01</td>\n",
       "      <td>-2.836627e+00</td>\n",
       "      <td>-1.029540e+01</td>\n",
       "      <td>-2.604551e+00</td>\n",
       "      <td>-2.256568e+01</td>\n",
       "      <td>-1.543008e+01</td>\n",
       "      <td>0.000000</td>\n",
       "      <td>0.000000</td>\n",
       "    </tr>\n",
       "    <tr>\n",
       "      <th>25%</th>\n",
       "      <td>54201.500000</td>\n",
       "      <td>-9.203734e-01</td>\n",
       "      <td>-5.985499e-01</td>\n",
       "      <td>-8.903648e-01</td>\n",
       "      <td>-8.486401e-01</td>\n",
       "      <td>-6.915971e-01</td>\n",
       "      <td>-7.682956e-01</td>\n",
       "      <td>-5.540759e-01</td>\n",
       "      <td>-2.086297e-01</td>\n",
       "      <td>-6.430976e-01</td>\n",
       "      <td>...</td>\n",
       "      <td>-2.283949e-01</td>\n",
       "      <td>-5.423504e-01</td>\n",
       "      <td>-1.618463e-01</td>\n",
       "      <td>-3.545861e-01</td>\n",
       "      <td>-3.171451e-01</td>\n",
       "      <td>-3.269839e-01</td>\n",
       "      <td>-7.083953e-02</td>\n",
       "      <td>-5.295979e-02</td>\n",
       "      <td>5.600000</td>\n",
       "      <td>0.000000</td>\n",
       "    </tr>\n",
       "    <tr>\n",
       "      <th>50%</th>\n",
       "      <td>84692.000000</td>\n",
       "      <td>1.810880e-02</td>\n",
       "      <td>6.548556e-02</td>\n",
       "      <td>1.798463e-01</td>\n",
       "      <td>-1.984653e-02</td>\n",
       "      <td>-5.433583e-02</td>\n",
       "      <td>-2.741871e-01</td>\n",
       "      <td>4.010308e-02</td>\n",
       "      <td>2.235804e-02</td>\n",
       "      <td>-5.142873e-02</td>\n",
       "      <td>...</td>\n",
       "      <td>-2.945017e-02</td>\n",
       "      <td>6.781943e-03</td>\n",
       "      <td>-1.119293e-02</td>\n",
       "      <td>4.097606e-02</td>\n",
       "      <td>1.659350e-02</td>\n",
       "      <td>-5.213911e-02</td>\n",
       "      <td>1.342146e-03</td>\n",
       "      <td>1.124383e-02</td>\n",
       "      <td>22.000000</td>\n",
       "      <td>0.000000</td>\n",
       "    </tr>\n",
       "    <tr>\n",
       "      <th>75%</th>\n",
       "      <td>139320.500000</td>\n",
       "      <td>1.315642e+00</td>\n",
       "      <td>8.037239e-01</td>\n",
       "      <td>1.027196e+00</td>\n",
       "      <td>7.433413e-01</td>\n",
       "      <td>6.119264e-01</td>\n",
       "      <td>3.985649e-01</td>\n",
       "      <td>5.704361e-01</td>\n",
       "      <td>3.273459e-01</td>\n",
       "      <td>5.971390e-01</td>\n",
       "      <td>...</td>\n",
       "      <td>1.863772e-01</td>\n",
       "      <td>5.285536e-01</td>\n",
       "      <td>1.476421e-01</td>\n",
       "      <td>4.395266e-01</td>\n",
       "      <td>3.507156e-01</td>\n",
       "      <td>2.409522e-01</td>\n",
       "      <td>9.104512e-02</td>\n",
       "      <td>7.827995e-02</td>\n",
       "      <td>77.165000</td>\n",
       "      <td>0.000000</td>\n",
       "    </tr>\n",
       "    <tr>\n",
       "      <th>max</th>\n",
       "      <td>172792.000000</td>\n",
       "      <td>2.454930e+00</td>\n",
       "      <td>2.205773e+01</td>\n",
       "      <td>9.382558e+00</td>\n",
       "      <td>1.687534e+01</td>\n",
       "      <td>3.480167e+01</td>\n",
       "      <td>7.330163e+01</td>\n",
       "      <td>1.205895e+02</td>\n",
       "      <td>2.000721e+01</td>\n",
       "      <td>1.559499e+01</td>\n",
       "      <td>...</td>\n",
       "      <td>2.720284e+01</td>\n",
       "      <td>1.050309e+01</td>\n",
       "      <td>2.252841e+01</td>\n",
       "      <td>4.584549e+00</td>\n",
       "      <td>7.519589e+00</td>\n",
       "      <td>3.517346e+00</td>\n",
       "      <td>3.161220e+01</td>\n",
       "      <td>3.384781e+01</td>\n",
       "      <td>25691.160000</td>\n",
       "      <td>1.000000</td>\n",
       "    </tr>\n",
       "  </tbody>\n",
       "</table>\n",
       "<p>8 rows × 31 columns</p>\n",
       "</div>"
      ],
      "text/plain": [
       "                Time            V1            V2            V3            V4  \\\n",
       "count  284807.000000  2.848070e+05  2.848070e+05  2.848070e+05  2.848070e+05   \n",
       "mean    94813.859575  3.919560e-15  5.688174e-16 -8.769071e-15  2.782312e-15   \n",
       "std     47488.145955  1.958696e+00  1.651309e+00  1.516255e+00  1.415869e+00   \n",
       "min         0.000000 -5.640751e+01 -7.271573e+01 -4.832559e+01 -5.683171e+00   \n",
       "25%     54201.500000 -9.203734e-01 -5.985499e-01 -8.903648e-01 -8.486401e-01   \n",
       "50%     84692.000000  1.810880e-02  6.548556e-02  1.798463e-01 -1.984653e-02   \n",
       "75%    139320.500000  1.315642e+00  8.037239e-01  1.027196e+00  7.433413e-01   \n",
       "max    172792.000000  2.454930e+00  2.205773e+01  9.382558e+00  1.687534e+01   \n",
       "\n",
       "                 V5            V6            V7            V8            V9  \\\n",
       "count  2.848070e+05  2.848070e+05  2.848070e+05  2.848070e+05  2.848070e+05   \n",
       "mean  -1.552563e-15  2.010663e-15 -1.694249e-15 -1.927028e-16 -3.137024e-15   \n",
       "std    1.380247e+00  1.332271e+00  1.237094e+00  1.194353e+00  1.098632e+00   \n",
       "min   -1.137433e+02 -2.616051e+01 -4.355724e+01 -7.321672e+01 -1.343407e+01   \n",
       "25%   -6.915971e-01 -7.682956e-01 -5.540759e-01 -2.086297e-01 -6.430976e-01   \n",
       "50%   -5.433583e-02 -2.741871e-01  4.010308e-02  2.235804e-02 -5.142873e-02   \n",
       "75%    6.119264e-01  3.985649e-01  5.704361e-01  3.273459e-01  5.971390e-01   \n",
       "max    3.480167e+01  7.330163e+01  1.205895e+02  2.000721e+01  1.559499e+01   \n",
       "\n",
       "           ...                 V21           V22           V23           V24  \\\n",
       "count      ...        2.848070e+05  2.848070e+05  2.848070e+05  2.848070e+05   \n",
       "mean       ...        1.537294e-16  7.959909e-16  5.367590e-16  4.458112e-15   \n",
       "std        ...        7.345240e-01  7.257016e-01  6.244603e-01  6.056471e-01   \n",
       "min        ...       -3.483038e+01 -1.093314e+01 -4.480774e+01 -2.836627e+00   \n",
       "25%        ...       -2.283949e-01 -5.423504e-01 -1.618463e-01 -3.545861e-01   \n",
       "50%        ...       -2.945017e-02  6.781943e-03 -1.119293e-02  4.097606e-02   \n",
       "75%        ...        1.863772e-01  5.285536e-01  1.476421e-01  4.395266e-01   \n",
       "max        ...        2.720284e+01  1.050309e+01  2.252841e+01  4.584549e+00   \n",
       "\n",
       "                V25           V26           V27           V28         Amount  \\\n",
       "count  2.848070e+05  2.848070e+05  2.848070e+05  2.848070e+05  284807.000000   \n",
       "mean   1.453003e-15  1.699104e-15 -3.660161e-16 -1.206049e-16      88.349619   \n",
       "std    5.212781e-01  4.822270e-01  4.036325e-01  3.300833e-01     250.120109   \n",
       "min   -1.029540e+01 -2.604551e+00 -2.256568e+01 -1.543008e+01       0.000000   \n",
       "25%   -3.171451e-01 -3.269839e-01 -7.083953e-02 -5.295979e-02       5.600000   \n",
       "50%    1.659350e-02 -5.213911e-02  1.342146e-03  1.124383e-02      22.000000   \n",
       "75%    3.507156e-01  2.409522e-01  9.104512e-02  7.827995e-02      77.165000   \n",
       "max    7.519589e+00  3.517346e+00  3.161220e+01  3.384781e+01   25691.160000   \n",
       "\n",
       "               Class  \n",
       "count  284807.000000  \n",
       "mean        0.001727  \n",
       "std         0.041527  \n",
       "min         0.000000  \n",
       "25%         0.000000  \n",
       "50%         0.000000  \n",
       "75%         0.000000  \n",
       "max         1.000000  \n",
       "\n",
       "[8 rows x 31 columns]"
      ]
     },
     "execution_count": 11,
     "metadata": {},
     "output_type": "execute_result"
    }
   ],
   "source": [
    "df.describe()"
   ]
  },
  {
   "cell_type": "code",
   "execution_count": 3,
   "metadata": {},
   "outputs": [
    {
     "data": {
      "text/plain": [
       "0    0.998273\n",
       "1    0.001727\n",
       "Name: Class, dtype: float64"
      ]
     },
     "execution_count": 3,
     "metadata": {},
     "output_type": "execute_result"
    }
   ],
   "source": [
    "df.Class.value_counts()/len(df)"
   ]
  },
  {
   "cell_type": "code",
   "execution_count": 4,
   "metadata": {},
   "outputs": [],
   "source": [
    "X = df.loc[:, \"V1\":\"V28\"].values"
   ]
  },
  {
   "cell_type": "code",
   "execution_count": 5,
   "metadata": {},
   "outputs": [],
   "source": [
    "y = df.Class.values"
   ]
  },
  {
   "cell_type": "code",
   "execution_count": 6,
   "metadata": {},
   "outputs": [
    {
     "data": {
      "text/plain": [
       "199364"
      ]
     },
     "execution_count": 6,
     "metadata": {},
     "output_type": "execute_result"
    }
   ],
   "source": [
    "training_size = int(len(X)*0.7)\n",
    "training_size"
   ]
  },
  {
   "cell_type": "code",
   "execution_count": 7,
   "metadata": {},
   "outputs": [],
   "source": [
    "X_train, y_train = X[:training_size], y[:training_size]\n",
    "X_test, y_test = X[training_size:], y[training_size:]"
   ]
  },
  {
   "cell_type": "code",
   "execution_count": 15,
   "metadata": {},
   "outputs": [
    {
     "data": {
      "text/plain": [
       "0    0.998074\n",
       "1    0.001926\n",
       "dtype: float64"
      ]
     },
     "execution_count": 15,
     "metadata": {},
     "output_type": "execute_result"
    }
   ],
   "source": [
    "pd.Series(y_train).value_counts()/len(y_train)"
   ]
  },
  {
   "cell_type": "code",
   "execution_count": 16,
   "metadata": {},
   "outputs": [
    {
     "data": {
      "text/plain": [
       "0    0.998736\n",
       "1    0.001264\n",
       "dtype: float64"
      ]
     },
     "execution_count": 16,
     "metadata": {},
     "output_type": "execute_result"
    }
   ],
   "source": [
    "pd.Series(y_test).value_counts()/len(y_test)"
   ]
  },
  {
   "cell_type": "code",
   "execution_count": 9,
   "metadata": {},
   "outputs": [
    {
     "name": "stdout",
     "output_type": "stream",
     "text": [
      "_________________________________________________________________\n",
      "Layer (type)                 Output Shape              Param #   \n",
      "=================================================================\n",
      "input_2 (InputLayer)         (None, 28)                0         \n",
      "_________________________________________________________________\n",
      "dense_2 (Dense)              (None, 1)                 29        \n",
      "=================================================================\n",
      "Total params: 29\n",
      "Trainable params: 29\n",
      "Non-trainable params: 0\n",
      "_________________________________________________________________\n",
      "Train on 199364 samples, validate on 85443 samples\n",
      "Epoch 1/10\n",
      "199364/199364 [==============================] - 2s 10us/step - loss: 0.5684 - acc: 0.7869 - val_loss: 0.5728 - val_acc: 0.8000\n",
      "Epoch 2/10\n",
      "199364/199364 [==============================] - 2s 8us/step - loss: 0.2960 - acc: 0.9833 - val_loss: 0.3741 - val_acc: 0.9840\n",
      "Epoch 3/10\n",
      "199364/199364 [==============================] - 2s 8us/step - loss: 0.1864 - acc: 0.9977 - val_loss: 0.2352 - val_acc: 0.9993\n",
      "Epoch 4/10\n",
      "199364/199364 [==============================] - 2s 9us/step - loss: 0.1222 - acc: 0.9993 - val_loss: 0.1538 - val_acc: 0.9996\n",
      "Epoch 5/10\n",
      "199364/199364 [==============================] - 2s 8us/step - loss: 0.0828 - acc: 0.9992 - val_loss: 0.1042 - val_acc: 0.9995\n",
      "Epoch 6/10\n",
      "199364/199364 [==============================] - 2s 8us/step - loss: 0.0577 - acc: 0.9990 - val_loss: 0.0719 - val_acc: 0.9994\n",
      "Epoch 7/10\n",
      "199364/199364 [==============================] - 2s 8us/step - loss: 0.0412 - acc: 0.9990 - val_loss: 0.0507 - val_acc: 0.9994\n",
      "Epoch 8/10\n",
      "199364/199364 [==============================] - 3s 13us/step - loss: 0.0300 - acc: 0.9990 - val_loss: 0.0369 - val_acc: 0.9992\n",
      "Epoch 9/10\n",
      "199364/199364 [==============================] - 2s 9us/step - loss: 0.0223 - acc: 0.9990 - val_loss: 0.0269 - val_acc: 0.9993\n",
      "Epoch 10/10\n",
      "199364/199364 [==============================] - 2s 9us/step - loss: 0.0170 - acc: 0.9990 - val_loss: 0.0195 - val_acc: 0.9994\n"
     ]
    },
    {
     "data": {
      "text/plain": [
       "<keras.callbacks.History at 0x1a247ce828>"
      ]
     },
     "execution_count": 9,
     "metadata": {},
     "output_type": "execute_result"
    }
   ],
   "source": [
    "n_x = X_train.shape[1]\n",
    "\n",
    "tf.set_random_seed(1)\n",
    "np.random.seed(1)\n",
    "\n",
    "tensor_board = keras.callbacks.TensorBoard(log_dir=\"/tmp/tf/logs/%d\" % time())\n",
    "\n",
    "model = keras.Sequential()\n",
    "model.add(InputLayer((n_x, )))\n",
    "model.add(Dense(units=1, activation=\"sigmoid\"))\n",
    "model.summary()\n",
    "model.compile(loss=keras.losses.binary_crossentropy\n",
    "            , metrics=[\"accuracy\"], optimizer=\"adam\")\n",
    "model.fit(X_train, y_train, batch_size=256\n",
    "          , validation_data = (X_test, y_test)\n",
    "          , epochs=10\n",
    "          , verbose = 1\n",
    "          , callbacks=[tensor_board])\n",
    "y_test_pred = model.predict_classes(X_test).flatten()\n",
    "plot_confusion_matrix(confusion_matrix(y_test, y_test_pred))"
   ]
  },
  {
   "cell_type": "code",
   "execution_count": 13,
   "metadata": {},
   "outputs": [
    {
     "data": {
      "text/plain": [
       "(<matplotlib.figure.Figure at 0x10a3b6908>,\n",
       " <matplotlib.axes._subplots.AxesSubplot at 0x10a3b6358>)"
      ]
     },
     "execution_count": 13,
     "metadata": {},
     "output_type": "execute_result"
    },
    {
     "data": {
      "image/png": "[encoded data removed]",
      "text/plain": [
       "<matplotlib.figure.Figure at 0x10a3b6908>"
      ]
     },
     "metadata": {},
     "output_type": "display_data"
    }
   ],
   "source": []
  },
  {
   "cell_type": "code",
   "execution_count": 14,
   "metadata": {},
   "outputs": [
    {
     "name": "stdout",
     "output_type": "stream",
     "text": [
      "_________________________________________________________________\n",
      "Layer (type)                 Output Shape              Param #   \n",
      "=================================================================\n",
      "input_3 (InputLayer)         (None, 28)                0         \n",
      "_________________________________________________________________\n",
      "dense_3 (Dense)              (None, 10)                290       \n",
      "_________________________________________________________________\n",
      "dense_4 (Dense)              (None, 5)                 55        \n",
      "_________________________________________________________________\n",
      "dense_5 (Dense)              (None, 1)                 6         \n",
      "=================================================================\n",
      "Total params: 351\n",
      "Trainable params: 351\n",
      "Non-trainable params: 0\n",
      "_________________________________________________________________\n",
      "Train on 199364 samples, validate on 85443 samples\n",
      "Epoch 1/10\n",
      "199364/199364 [==============================] - 2s 12us/step - loss: 0.0654 - acc: 0.9958 - val_loss: 0.0070 - val_acc: 0.9987\n",
      "Epoch 2/10\n",
      "199364/199364 [==============================] - 2s 10us/step - loss: 0.0056 - acc: 0.9981 - val_loss: 0.0042 - val_acc: 0.9987\n",
      "Epoch 3/10\n",
      "199364/199364 [==============================] - 2s 10us/step - loss: 0.0047 - acc: 0.9981 - val_loss: 0.0037 - val_acc: 0.9987\n",
      "Epoch 4/10\n",
      "199364/199364 [==============================] - 2s 10us/step - loss: 0.0042 - acc: 0.9981 - val_loss: 0.0032 - val_acc: 0.9987\n",
      "Epoch 5/10\n",
      "199364/199364 [==============================] - 2s 11us/step - loss: 0.0039 - acc: 0.9981 - val_loss: 0.0031 - val_acc: 0.9987\n",
      "Epoch 6/10\n",
      "199364/199364 [==============================] - 2s 11us/step - loss: 0.0037 - acc: 0.9981 - val_loss: 0.0030 - val_acc: 0.9987\n",
      "Epoch 7/10\n",
      "199364/199364 [==============================] - 2s 10us/step - loss: 0.0036 - acc: 0.9981 - val_loss: 0.0029 - val_acc: 0.9996\n",
      "Epoch 8/10\n",
      "199364/199364 [==============================] - 2s 10us/step - loss: 0.0035 - acc: 0.9994 - val_loss: 0.0028 - val_acc: 0.9996\n",
      "Epoch 9/10\n",
      "199364/199364 [==============================] - 2s 10us/step - loss: 0.0034 - acc: 0.9993 - val_loss: 0.0028 - val_acc: 0.9996\n",
      "Epoch 10/10\n",
      "199364/199364 [==============================] - 2s 10us/step - loss: 0.0032 - acc: 0.9994 - val_loss: 0.0027 - val_acc: 0.9996\n"
     ]
    },
    {
     "data": {
      "text/plain": [
       "(<matplotlib.figure.Figure at 0x1a1de4d9e8>,\n",
       " <matplotlib.axes._subplots.AxesSubplot at 0x1a1f1b5eb8>)"
      ]
     },
     "execution_count": 14,
     "metadata": {},
     "output_type": "execute_result"
    },
    {
     "data": {
      "image/png": "[encoded data removed]",
      "text/plain": [
       "<matplotlib.figure.Figure at 0x1a1de4d9e8>"
      ]
     },
     "metadata": {},
     "output_type": "display_data"
    }
   ],
   "source": [
    "n_x = X_train.shape[1]\n",
    "\n",
    "tf.set_random_seed(1)\n",
    "np.random.seed(1)\n",
    "\n",
    "tensor_board = keras.callbacks.TensorBoard(log_dir=\"/tmp/tf/logs/%d\" % time())\n",
    "\n",
    "model = keras.Sequential()\n",
    "model.add(InputLayer((n_x, )))\n",
    "model.add(Dense(units=10, activation=\"relu\"))\n",
    "model.add(Dense(units=5, activation=\"relu\"))\n",
    "model.add(Dense(units=1, activation=\"sigmoid\"))\n",
    "model.summary()\n",
    "model.compile(loss=keras.losses.binary_crossentropy\n",
    "            , metrics=[\"accuracy\"], optimizer=\"adam\")\n",
    "model.fit(X_train, y_train, batch_size=256\n",
    "          , validation_data = (X_test, y_test)\n",
    "          , epochs=10\n",
    "          , verbose = 1\n",
    "          , callbacks=[tensor_board])\n",
    "y_test_pred = model.predict_classes(X_test).flatten()\n",
    "plot_confusion_matrix(confusion_matrix(y_test, y_test_pred))"
   ]
  },
  {
   "cell_type": "code",
   "execution_count": 21,
   "metadata": {
    "scrolled": false
   },
   "outputs": [
    {
     "name": "stdout",
     "output_type": "stream",
     "text": [
      "_________________________________________________________________\n",
      "Layer (type)                 Output Shape              Param #   \n",
      "=================================================================\n",
      "input_8 (InputLayer)         (None, 28)                0         \n",
      "_________________________________________________________________\n",
      "dense_19 (Dense)             (None, 20)                580       \n",
      "_________________________________________________________________\n",
      "dense_20 (Dense)             (None, 10)                210       \n",
      "_________________________________________________________________\n",
      "dropout_5 (Dropout)          (None, 10)                0         \n",
      "_________________________________________________________________\n",
      "dense_21 (Dense)             (None, 1)                 11        \n",
      "=================================================================\n",
      "Total params: 801\n",
      "Trainable params: 801\n",
      "Non-trainable params: 0\n",
      "_________________________________________________________________\n",
      "Train on 199364 samples, validate on 85443 samples\n",
      "Epoch 1/10\n",
      "199364/199364 [==============================] - 3s 14us/step - loss: 0.1147 - acc: 0.9661 - val_loss: 0.0050 - val_acc: 0.9993\n",
      "Epoch 2/10\n",
      "199364/199364 [==============================] - 2s 11us/step - loss: 0.0060 - acc: 0.9991 - val_loss: 0.0031 - val_acc: 0.9995\n",
      "Epoch 3/10\n",
      "199364/199364 [==============================] - 2s 11us/step - loss: 0.0043 - acc: 0.9991 - val_loss: 0.0027 - val_acc: 0.9996\n",
      "Epoch 4/10\n",
      "199364/199364 [==============================] - 2s 12us/step - loss: 0.0039 - acc: 0.9992 - val_loss: 0.0026 - val_acc: 0.9996\n",
      "Epoch 5/10\n",
      "199364/199364 [==============================] - 2s 12us/step - loss: 0.0036 - acc: 0.9992 - val_loss: 0.0025 - val_acc: 0.9996\n",
      "Epoch 6/10\n",
      "199364/199364 [==============================] - 2s 12us/step - loss: 0.0034 - acc: 0.9993 - val_loss: 0.0027 - val_acc: 0.9995\n",
      "Epoch 7/10\n",
      "199364/199364 [==============================] - 2s 12us/step - loss: 0.0032 - acc: 0.9993 - val_loss: 0.0026 - val_acc: 0.9995\n",
      "Epoch 8/10\n",
      "199364/199364 [==============================] - 3s 13us/step - loss: 0.0030 - acc: 0.9993 - val_loss: 0.0027 - val_acc: 0.9996\n",
      "Epoch 9/10\n",
      "199364/199364 [==============================] - 3s 13us/step - loss: 0.0029 - acc: 0.9993 - val_loss: 0.0027 - val_acc: 0.9994\n",
      "Epoch 10/10\n",
      "199364/199364 [==============================] - 2s 12us/step - loss: 0.0029 - acc: 0.9993 - val_loss: 0.0027 - val_acc: 0.9996\n"
     ]
    },
    {
     "data": {
      "text/plain": [
       "(<matplotlib.figure.Figure at 0x1a23bfd400>,\n",
       " <matplotlib.axes._subplots.AxesSubplot at 0x1a23fc4be0>)"
      ]
     },
     "execution_count": 21,
     "metadata": {},
     "output_type": "execute_result"
    },
    {
     "data": {
      "image/png": "[encoded data removed]",
      "text/plain": [
       "<matplotlib.figure.Figure at 0x1a23bfd400>"
      ]
     },
     "metadata": {},
     "output_type": "display_data"
    }
   ],
   "source": [
    "n_x = X_train.shape[1]\n",
    "\n",
    "tf.set_random_seed(1)\n",
    "np.random.seed(1)\n",
    "\n",
    "tensor_board = keras.callbacks.TensorBoard(log_dir=\"/tmp/tf/logs/%d\" % time())\n",
    "\n",
    "model = keras.Sequential()\n",
    "model.add(InputLayer((n_x, )))\n",
    "model.add(Dense(units=20, activation=\"relu\"))\n",
    "model.add(Dense(units=10, activation=\"relu\"))\n",
    "model.add(Dropout(0.1))\n",
    "model.add(Dense(units=1, activation=\"sigmoid\"))\n",
    "model.summary()\n",
    "model.compile(loss=keras.losses.binary_crossentropy\n",
    "            , metrics=[\"accuracy\"], optimizer=\"adam\")\n",
    "model.fit(X_train, y_train, batch_size=256\n",
    "          , validation_data = (X_test, y_test)\n",
    "          , epochs=10\n",
    "          , verbose = 1\n",
    "          , callbacks=[tensor_board])\n",
    "y_test_pred = model.predict_classes(X_test).flatten()\n",
    "plot_confusion_matrix(confusion_matrix(y_test, y_test_pred))"
   ]
  },
  {
   "cell_type": "code",
   "execution_count": 22,
   "metadata": {},
   "outputs": [],
   "source": [
    "model.save(\"/tmp/tf/credit-fraud.h5\")"
   ]
  },
  {
   "cell_type": "code",
   "execution_count": 23,
   "metadata": {},
   "outputs": [],
   "source": [
    "model2 = keras.models.load_model(\"/tmp/tf/credit-fraud.h5\")"
   ]
  },
  {
   "cell_type": "code",
   "execution_count": 25,
   "metadata": {},
   "outputs": [
    {
     "name": "stdout",
     "output_type": "stream",
     "text": [
      "_________________________________________________________________\n",
      "Layer (type)                 Output Shape              Param #   \n",
      "=================================================================\n",
      "input_8 (InputLayer)         (None, 28)                0         \n",
      "_________________________________________________________________\n",
      "dense_19 (Dense)             (None, 20)                580       \n",
      "_________________________________________________________________\n",
      "dense_20 (Dense)             (None, 10)                210       \n",
      "_________________________________________________________________\n",
      "dropout_5 (Dropout)          (None, 10)                0         \n",
      "_________________________________________________________________\n",
      "dense_21 (Dense)             (None, 1)                 11        \n",
      "=================================================================\n",
      "Total params: 801\n",
      "Trainable params: 801\n",
      "Non-trainable params: 0\n",
      "_________________________________________________________________\n"
     ]
    }
   ],
   "source": [
    "model2.summary()"
   ]
  },
  {
   "cell_type": "code",
   "execution_count": 27,
   "metadata": {},
   "outputs": [
    {
     "name": "stdout",
     "output_type": "stream",
     "text": [
      "85443/85443 [==============================] - 3s 29us/step\n"
     ]
    },
    {
     "data": {
      "text/plain": [
       "[0.0026516693321756157, 0.9995669627705019]"
      ]
     },
     "execution_count": 27,
     "metadata": {},
     "output_type": "execute_result"
    }
   ],
   "source": [
    "model2.evaluate(X_test, y_test)"
   ]
  },
  {
   "cell_type": "code",
   "execution_count": 30,
   "metadata": {},
   "outputs": [],
   "source": [
    "X_train1 = X_train[:training_size//2]\n",
    "y_train1 = y_train[:training_size//2]\n",
    "X_train2 = X_train[training_size//2:]\n",
    "y_train2 = y_train[training_size//2:]"
   ]
  },
  {
   "cell_type": "code",
   "execution_count": 32,
   "metadata": {},
   "outputs": [
    {
     "name": "stdout",
     "output_type": "stream",
     "text": [
      "_________________________________________________________________\n",
      "Layer (type)                 Output Shape              Param #   \n",
      "=================================================================\n",
      "input_9 (InputLayer)         (None, 28)                0         \n",
      "_________________________________________________________________\n",
      "dense_23 (Dense)             (None, 10)                290       \n",
      "_________________________________________________________________\n",
      "dense_24 (Dense)             (None, 5)                 55        \n",
      "_________________________________________________________________\n",
      "dense_25 (Dense)             (None, 1)                 6         \n",
      "=================================================================\n",
      "Total params: 351\n",
      "Trainable params: 351\n",
      "Non-trainable params: 0\n",
      "_________________________________________________________________\n",
      "Train on 99682 samples, validate on 85443 samples\n",
      "Epoch 1/10\n",
      "99682/99682 [==============================] - 2s 16us/step - loss: 0.1175 - acc: 0.9931 - val_loss: 0.0451 - val_acc: 0.9987\n",
      "Epoch 2/10\n",
      "99682/99682 [==============================] - 1s 12us/step - loss: 0.0091 - acc: 0.9978 - val_loss: 0.0209 - val_acc: 0.9987\n",
      "Epoch 3/10\n",
      "99682/99682 [==============================] - 1s 12us/step - loss: 0.0060 - acc: 0.9978 - val_loss: 0.0150 - val_acc: 0.9987\n",
      "Epoch 4/10\n",
      "99682/99682 [==============================] - 1s 11us/step - loss: 0.0052 - acc: 0.9978 - val_loss: 0.0116 - val_acc: 0.9987\n",
      "Epoch 5/10\n",
      "99682/99682 [==============================] - 1s 12us/step - loss: 0.0049 - acc: 0.9978 - val_loss: 0.0106 - val_acc: 0.9987\n",
      "Epoch 6/10\n",
      "99682/99682 [==============================] - 1s 11us/step - loss: 0.0046 - acc: 0.9978 - val_loss: 0.0096 - val_acc: 0.9987\n",
      "Epoch 7/10\n",
      "99682/99682 [==============================] - 1s 14us/step - loss: 0.0044 - acc: 0.9978 - val_loss: 0.0086 - val_acc: 0.9987\n",
      "Epoch 8/10\n",
      "99682/99682 [==============================] - 1s 12us/step - loss: 0.0042 - acc: 0.9978 - val_loss: 0.0077 - val_acc: 0.9987\n",
      "Epoch 9/10\n",
      "99682/99682 [==============================] - 1s 12us/step - loss: 0.0040 - acc: 0.9978 - val_loss: 0.0072 - val_acc: 0.9987\n",
      "Epoch 10/10\n",
      "99682/99682 [==============================] - 1s 14us/step - loss: 0.0038 - acc: 0.9978 - val_loss: 0.0065 - val_acc: 0.9987\n"
     ]
    },
    {
     "data": {
      "text/plain": [
       "<keras.callbacks.History at 0x1a24d72eb8>"
      ]
     },
     "execution_count": 32,
     "metadata": {},
     "output_type": "execute_result"
    }
   ],
   "source": [
    "n_x = X_train.shape[1]\n",
    "\n",
    "tf.set_random_seed(1)\n",
    "np.random.seed(1)\n",
    "\n",
    "tensor_board = keras.callbacks.TensorBoard(log_dir=\"/tmp/tf/logs/%d\" % time())\n",
    "\n",
    "model3 = keras.Sequential()\n",
    "model3.add(InputLayer((n_x,)))\n",
    "model3.add(Dense(units=10, activation=\"relu\"))\n",
    "model3.add(Dense(units=5, activation=\"relu\"))\n",
    "model3.add(Dense(units=1, activation=\"sigmoid\"))\n",
    "model3.summary()\n",
    "model3.compile(loss=keras.losses.binary_crossentropy\n",
    "            , metrics=[\"accuracy\"], optimizer=\"adam\")\n",
    "model3.fit(X_train1, y_train1, batch_size=256\n",
    "          , validation_data = (X_test, y_test)\n",
    "          , epochs=10\n",
    "          , verbose = 1\n",
    "          , callbacks=[tensor_board])\n"
   ]
  },
  {
   "cell_type": "code",
   "execution_count": 33,
   "metadata": {},
   "outputs": [
    {
     "name": "stdout",
     "output_type": "stream",
     "text": [
      "85443/85443 [==============================] - 2s 27us/step\n"
     ]
    },
    {
     "data": {
      "text/plain": [
       "[0.006516061194454266, 0.998735999438222]"
      ]
     },
     "execution_count": 33,
     "metadata": {},
     "output_type": "execute_result"
    }
   ],
   "source": [
    "model3.evaluate(X_test, y_test)"
   ]
  },
  {
   "cell_type": "code",
   "execution_count": 35,
   "metadata": {},
   "outputs": [
    {
     "name": "stdout",
     "output_type": "stream",
     "text": [
      "Train on 99682 samples, validate on 85443 samples\n",
      "Epoch 1/10\n",
      "99682/99682 [==============================] - 1s 12us/step - loss: 0.0044 - acc: 0.9984 - val_loss: 0.0034 - val_acc: 0.9987\n",
      "Epoch 2/10\n",
      "99682/99682 [==============================] - 1s 12us/step - loss: 0.0038 - acc: 0.9984 - val_loss: 0.0032 - val_acc: 0.9987\n",
      "Epoch 3/10\n",
      "99682/99682 [==============================] - 1s 11us/step - loss: 0.0037 - acc: 0.9984 - val_loss: 0.0031 - val_acc: 0.9987\n",
      "Epoch 4/10\n",
      "99682/99682 [==============================] - 1s 11us/step - loss: 0.0035 - acc: 0.9985 - val_loss: 0.0030 - val_acc: 0.9996\n",
      "Epoch 5/10\n",
      "99682/99682 [==============================] - 1s 14us/step - loss: 0.0034 - acc: 0.9994 - val_loss: 0.0029 - val_acc: 0.9996\n",
      "Epoch 6/10\n",
      "99682/99682 [==============================] - 1s 12us/step - loss: 0.0033 - acc: 0.9994 - val_loss: 0.0029 - val_acc: 0.9996\n",
      "Epoch 7/10\n",
      "99682/99682 [==============================] - 1s 12us/step - loss: 0.0032 - acc: 0.9994 - val_loss: 0.0029 - val_acc: 0.9996\n",
      "Epoch 8/10\n",
      "99682/99682 [==============================] - 1s 12us/step - loss: 0.0031 - acc: 0.9994 - val_loss: 0.0029 - val_acc: 0.9996\n",
      "Epoch 9/10\n",
      "99682/99682 [==============================] - 1s 12us/step - loss: 0.0030 - acc: 0.9995 - val_loss: 0.0028 - val_acc: 0.9996\n",
      "Epoch 10/10\n",
      "99682/99682 [==============================] - 1s 12us/step - loss: 0.0029 - acc: 0.9994 - val_loss: 0.0028 - val_acc: 0.9996\n"
     ]
    },
    {
     "data": {
      "text/plain": [
       "<keras.callbacks.History at 0x1a24b112b0>"
      ]
     },
     "execution_count": 35,
     "metadata": {},
     "output_type": "execute_result"
    }
   ],
   "source": [
    "model3.fit(X_train2, y_train2, batch_size=256\n",
    "          , validation_data = (X_test, y_test)\n",
    "          , epochs=10\n",
    "          , verbose = 1\n",
    "          , callbacks=[tensor_board])\n"
   ]
  },
  {
   "cell_type": "code",
   "execution_count": 36,
   "metadata": {},
   "outputs": [
    {
     "name": "stdout",
     "output_type": "stream",
     "text": [
      "85443/85443 [==============================] - 2s 29us/step\n"
     ]
    },
    {
     "data": {
      "text/plain": [
       "[0.0028365409679235523, 0.999602073897218]"
      ]
     },
     "execution_count": 36,
     "metadata": {},
     "output_type": "execute_result"
    }
   ],
   "source": [
    "model3.evaluate(X_test, y_test)"
   ]
  },
  {
   "cell_type": "code",
   "execution_count": 38,
   "metadata": {},
   "outputs": [
    {
     "data": {
      "text/plain": [
       "(<matplotlib.figure.Figure at 0x1a24b0ce80>,\n",
       " <matplotlib.axes._subplots.AxesSubplot at 0x1a25415e48>)"
      ]
     },
     "execution_count": 38,
     "metadata": {},
     "output_type": "execute_result"
    },
    {
     "data": {
      "image/png": "[encoded data removed]",
      "text/plain": [
       "<matplotlib.figure.Figure at 0x1a24b0ce80>"
      ]
     },
     "metadata": {},
     "output_type": "display_data"
    }
   ],
   "source": [
    "y_test_pred = model3.predict_classes(X_test).flatten()\n",
    "plot_confusion_matrix(confusion_matrix(y_test, y_test_pred))"
   ]
  },
  {
   "cell_type": "markdown",
   "metadata": {},
   "source": [
    "# Next steps\n",
    "\n",
    "\n",
    " - Add more layers \n",
    " - Change the number of neurons per layers\n",
    " - Change the number of epochs, batch size\n",
    " - Learning rate\n",
    " - Inialializers\n"
   ]
  },
  {
   "cell_type": "code",
   "execution_count": null,
   "metadata": {},
   "outputs": [],
   "source": []
  }
 ],
 "metadata": {
  "kernelspec": {
   "display_name": "Python 3",
   "language": "python",
   "name": "python3"
  },
  "language_info": {
   "codemirror_mode": {
    "name": "ipython",
    "version": 3
   },
   "file_extension": ".py",
   "mimetype": "text/x-python",
   "name": "python",
   "nbconvert_exporter": "python",
   "pygments_lexer": "ipython3",
   "version": "3.6.5"
  }
 },
 "nbformat": 4,
 "nbformat_minor": 2
}
