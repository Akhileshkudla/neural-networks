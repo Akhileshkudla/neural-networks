{
 "cells": [
  {
   "cell_type": "code",
   "execution_count": 2,
   "metadata": {},
   "outputs": [
    {
     "name": "stderr",
     "output_type": "stream",
     "text": [
      "/Users/abulbasar/anaconda3/lib/python3.6/site-packages/h5py/__init__.py:36: FutureWarning: Conversion of the second argument of issubdtype from `float` to `np.floating` is deprecated. In future, it will be treated as `np.float64 == np.dtype(float).type`.\n",
      "  from ._conv import register_converters as _register_converters\n",
      "Using TensorFlow backend.\n"
     ]
    }
   ],
   "source": [
    "import h5py\n",
    "import numpy as np\n",
    "import matplotlib.pyplot as plt\n",
    "import tensorflow as tf\n",
    "import keras\n",
    "from keras import layers\n",
    "import pandas as pd\n",
    "\n",
    "%matplotlib inline"
   ]
  },
  {
   "cell_type": "code",
   "execution_count": 3,
   "metadata": {},
   "outputs": [
    {
     "name": "stdout",
     "output_type": "stream",
     "text": [
      "/data/cifar-10-batches-py/data_batch_1\n",
      "/data/cifar-10-batches-py/data_batch_2\n",
      "/data/cifar-10-batches-py/data_batch_3\n",
      "/data/cifar-10-batches-py/data_batch_4\n",
      "/data/cifar-10-batches-py/data_batch_5\n",
      "/data/cifar-10-batches-py/test_batch\n",
      "X_train: (50000, 32, 32, 3) \n",
      "X_test: (10000, 32, 32, 3) \n",
      "y_train:  (50000,) \n",
      "y_test: (10000,) \n",
      "labels:  ['airplane', 'automobile', 'bird', 'cat', 'deer', 'dog', 'frog', 'horse', 'ship', 'truck']\n"
     ]
    }
   ],
   "source": [
    "import os, pickle\n",
    "import pickle\n",
    "\n",
    "def cifar10(data_path):\n",
    "\n",
    "    def _load_data_(files):\n",
    "        X = np.empty([0, 3072])\n",
    "        y = np.empty([0])\n",
    "        for path in files:\n",
    "            print(path)\n",
    "            with open(path, \"rb\") as f:\n",
    "                d = pickle.load(f, encoding='bytes')\n",
    "                X = np.vstack([X, d[b\"data\"]]).astype(\"uint8\")\n",
    "                y = np.hstack([y, d[b\"labels\"]]).astype(\"uint8\")\n",
    "        return X, y\n",
    "    \n",
    "    training_files = [os.path.join(data_path, \"data_batch_{0}\".format(i))  for i in range(1, 6)]\n",
    "    test_files = [os.path.join(data_path, \"test_batch\")]\n",
    "    labels_file = os.path.join(data_path, \"batches.meta\")\n",
    "\n",
    "    X_train, y_train = _load_data_(training_files)\n",
    "    X_test, y_test = _load_data_(test_files)\n",
    "\n",
    "    X_train = X_train.reshape([-1, 3, 32, 32]).transpose([0, 2, 3, 1])/255\n",
    "    X_test = X_test.reshape([-1, 3, 32, 32]).transpose([0, 2, 3, 1])/255\n",
    "\n",
    "    with open(labels_file, \"rb\") as f:\n",
    "        labels = pickle.load(f, encoding=\"bytes\")\n",
    "    labels = [s.decode(\"utf-8\")  for s in labels[b'label_names']]\n",
    "    return X_train, X_test, y_train, y_test, labels\n",
    "\n",
    "X_train, X_test, y_train, y_test, labels = cifar10(\"/data/cifar-10-batches-py/\")\n",
    "print(\"X_train:\", X_train.shape, \n",
    "      \"\\nX_test:\", X_test.shape, \n",
    "      \"\\ny_train: \", y_train.shape, \n",
    "      \"\\ny_test:\", y_test.shape, \n",
    "      \"\\nlabels: \", labels)"
   ]
  },
  {
   "cell_type": "code",
   "execution_count": null,
   "metadata": {},
   "outputs": [],
   "source": []
  }
 ],
 "metadata": {
  "kernelspec": {
   "display_name": "Python 3",
   "language": "python",
   "name": "python3"
  },
  "language_info": {
   "codemirror_mode": {
    "name": "ipython",
    "version": 3
   },
   "file_extension": ".py",
   "mimetype": "text/x-python",
   "name": "python",
   "nbconvert_exporter": "python",
   "pygments_lexer": "ipython3",
   "version": "3.6.5"
  }
 },
 "nbformat": 4,
 "nbformat_minor": 2
}
