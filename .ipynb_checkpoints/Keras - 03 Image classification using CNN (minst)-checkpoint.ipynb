{
 "cells": [
  {
   "cell_type": "code",
   "execution_count": 8,
   "metadata": {},
   "outputs": [],
   "source": [
    "import pandas as pd\n",
    "import numpy as np\n",
    "import matplotlib.pyplot as plt\n",
    "from sklearn import * \n",
    "pd.options.display.max_columns = 1000\n",
    "\n",
    "import tensorflow as tf\n",
    "import keras\n",
    "from keras.layers import * \n",
    "\n",
    "%matplotlib inline"
   ]
  },
  {
   "cell_type": "code",
   "execution_count": 5,
   "metadata": {},
   "outputs": [],
   "source": [
    "df_train = pd.read_csv(\"/data/MNIST/mnist_train.csv\", header=None)\n",
    "df_test = pd.read_csv(\"/data/MNIST/mnist_test.csv\", header=None)\n",
    "\n",
    "X_train = (df_train.iloc[:, 1:].values/255).reshape(-1, 28, 28, 1) # width, height, channel\n",
    "X_test = (df_test.iloc[:, 1:].values/255).reshape(-1, 28, 28, 1)\n",
    "y_train = df_train.iloc[:, 0].values\n",
    "y_test = df_test.iloc[:, 0].values"
   ]
  },
  {
   "cell_type": "code",
   "execution_count": 7,
   "metadata": {},
   "outputs": [
    {
     "data": {
      "text/plain": [
       "((60000, 28, 28, 1), (10000, 28, 28, 1))"
      ]
     },
     "execution_count": 7,
     "metadata": {},
     "output_type": "execute_result"
    }
   ],
   "source": [
    "X_train.shape, X_test.shape"
   ]
  },
  {
   "cell_type": "code",
   "execution_count": 13,
   "metadata": {},
   "outputs": [
    {
     "name": "stdout",
     "output_type": "stream",
     "text": [
      "_________________________________________________________________\n",
      "Layer (type)                 Output Shape              Param #   \n",
      "=================================================================\n",
      "conv2d_3 (Conv2D)            (None, 24, 24, 32)        832       \n",
      "_________________________________________________________________\n",
      "max_pooling2d_3 (MaxPooling2 (None, 12, 12, 32)        0         \n",
      "_________________________________________________________________\n",
      "conv2d_4 (Conv2D)            (None, 10, 10, 64)        18496     \n",
      "_________________________________________________________________\n",
      "max_pooling2d_4 (MaxPooling2 (None, 5, 5, 64)          0         \n",
      "_________________________________________________________________\n",
      "flatten_2 (Flatten)          (None, 1600)              0         \n",
      "_________________________________________________________________\n",
      "dropout_2 (Dropout)          (None, 1600)              0         \n",
      "_________________________________________________________________\n",
      "dense_3 (Dense)              (None, 100)               160100    \n",
      "_________________________________________________________________\n",
      "dense_4 (Dense)              (None, 10)                1010      \n",
      "=================================================================\n",
      "Total params: 180,438\n",
      "Trainable params: 180,438\n",
      "Non-trainable params: 0\n",
      "_________________________________________________________________\n",
      "Epoch 1/10\n",
      "60000/60000 [==============================] - 62s 1ms/step - loss: 0.3051 - acc: 0.9016\n",
      "Epoch 2/10\n",
      "60000/60000 [==============================] - 61s 1ms/step - loss: 0.1223 - acc: 0.9619\n",
      "Epoch 3/10\n",
      "60000/60000 [==============================] - 62s 1ms/step - loss: 0.0985 - acc: 0.9688\n",
      "Epoch 4/10\n",
      "60000/60000 [==============================] - 67s 1ms/step - loss: 0.0866 - acc: 0.9724 ETA: 0s - loss: 0.0865 - ac\n",
      "Epoch 5/10\n",
      "60000/60000 [==============================] - 63s 1ms/step - loss: 0.0737 - acc: 0.9770\n",
      "Epoch 6/10\n",
      "60000/60000 [==============================] - 64s 1ms/step - loss: 0.0703 - acc: 0.9776\n",
      "Epoch 7/10\n",
      "60000/60000 [==============================] - 64s 1ms/step - loss: 0.0657 - acc: 0.9789: 2\n",
      "Epoch 8/10\n",
      "60000/60000 [==============================] - 64s 1ms/step - loss: 0.0615 - acc: 0.9811\n",
      "Epoch 9/10\n",
      "60000/60000 [==============================] - 65s 1ms/step - loss: 0.0561 - acc: 0.9818\n",
      "Epoch 10/10\n",
      "60000/60000 [==============================] - 65s 1ms/step - loss: 0.0557 - acc: 0.9819\n"
     ]
    },
    {
     "data": {
      "text/plain": [
       "<keras.callbacks.History at 0x1a22d827b8>"
      ]
     },
     "execution_count": 13,
     "metadata": {},
     "output_type": "execute_result"
    }
   ],
   "source": [
    "n_x = 28 * 28\n",
    "n_y = 10\n",
    "tf.set_random_seed(1)\n",
    "\n",
    "def build_model():\n",
    "    model = keras.Sequential()\n",
    "    model.add(Conv2D(filters=32, activation=\"relu\", kernel_size=(5, 5), input_shape = (28, 28, 1)))\n",
    "    model.add(MaxPooling2D(pool_size=(2, 2)))\n",
    "    model.add(Conv2D(filters=64, activation=\"relu\", kernel_size=(3, 3)))\n",
    "    model.add(MaxPooling2D(pool_size=(2, 2)))\n",
    "    model.add(Flatten())\n",
    "    model.add(Dropout(rate=0.8))\n",
    "    model.add(Dense(activation=\"relu\", units=100))\n",
    "    model.add(Dense(activation=\"softmax\", units=n_y))\n",
    "    \n",
    "    model.compile(loss=keras.losses.categorical_crossentropy\n",
    "                  , optimizer=\"adam\"\n",
    "                  , metrics = [\"accuracy\"])\n",
    "    return model\n",
    "\n",
    "model = build_model()\n",
    "model.summary()\n",
    "\n",
    "model.fit(x = X_train\n",
    "          , y = keras.utils.to_categorical(y_train)\n",
    "          , verbose = 1\n",
    "          , epochs = 10\n",
    "          , batch_size= 64)\n"
   ]
  },
  {
   "cell_type": "code",
   "execution_count": 14,
   "metadata": {},
   "outputs": [
    {
     "name": "stdout",
     "output_type": "stream",
     "text": [
      "10000/10000 [==============================] - 4s 382us/step\n"
     ]
    },
    {
     "data": {
      "text/plain": [
       "[0.019832993313824408, 0.9941]"
      ]
     },
     "execution_count": 14,
     "metadata": {},
     "output_type": "execute_result"
    }
   ],
   "source": [
    "model.evaluate(X_test, keras.utils.to_categorical(y_test) )"
   ]
  },
  {
   "cell_type": "code",
   "execution_count": 11,
   "metadata": {},
   "outputs": [
    {
     "data": {
      "text/plain": [
       "832"
      ]
     },
     "execution_count": 11,
     "metadata": {},
     "output_type": "execute_result"
    }
   ],
   "source": [
    "(5 * 5 * 1  + 1) * 32 "
   ]
  },
  {
   "cell_type": "code",
   "execution_count": 12,
   "metadata": {},
   "outputs": [
    {
     "data": {
      "text/plain": [
       "18496"
      ]
     },
     "execution_count": 12,
     "metadata": {},
     "output_type": "execute_result"
    }
   ],
   "source": [
    "(3 * 3 * 32 + 1) * 64"
   ]
  },
  {
   "cell_type": "code",
   "execution_count": null,
   "metadata": {},
   "outputs": [],
   "source": []
  },
  {
   "cell_type": "code",
   "execution_count": 11,
   "metadata": {},
   "outputs": [
    {
     "name": "stdout",
     "output_type": "stream",
     "text": [
      "_________________________________________________________________\n",
      "Layer (type)                 Output Shape              Param #   \n",
      "=================================================================\n",
      "dense_3 (Dense)              (None, 400)               314000    \n",
      "_________________________________________________________________\n",
      "dense_4 (Dense)              (None, 10)                4010      \n",
      "=================================================================\n",
      "Total params: 318,010\n",
      "Trainable params: 318,010\n",
      "Non-trainable params: 0\n",
      "_________________________________________________________________\n"
     ]
    }
   ],
   "source": []
  },
  {
   "cell_type": "code",
   "execution_count": 13,
   "metadata": {},
   "outputs": [
    {
     "name": "stdout",
     "output_type": "stream",
     "text": [
      "10000/10000 [==============================] - 1s 66us/step\n"
     ]
    },
    {
     "data": {
      "text/plain": [
       "[0.06574365932492365, 0.9821]"
      ]
     },
     "execution_count": 13,
     "metadata": {},
     "output_type": "execute_result"
    }
   ],
   "source": [
    "model.evaluate(x=X_test, y = keras.utils.to_categorical(y_test))"
   ]
  },
  {
   "cell_type": "code",
   "execution_count": 9,
   "metadata": {},
   "outputs": [
    {
     "data": {
      "text/plain": [
       "(60000, 10)"
      ]
     },
     "execution_count": 9,
     "metadata": {},
     "output_type": "execute_result"
    }
   ],
   "source": [
    "keras.utils.to_categorical(y_train).shape"
   ]
  },
  {
   "cell_type": "code",
   "execution_count": 14,
   "metadata": {},
   "outputs": [
    {
     "data": {
      "text/plain": [
       "'1.5.0'"
      ]
     },
     "execution_count": 14,
     "metadata": {},
     "output_type": "execute_result"
    }
   ],
   "source": [
    "tf.__version__"
   ]
  },
  {
   "cell_type": "code",
   "execution_count": 16,
   "metadata": {},
   "outputs": [],
   "source": [
    "y_test_pred = model.predict(X_test)"
   ]
  },
  {
   "cell_type": "code",
   "execution_count": 17,
   "metadata": {},
   "outputs": [
    {
     "data": {
      "text/plain": [
       "(10000, 10)"
      ]
     },
     "execution_count": 17,
     "metadata": {},
     "output_type": "execute_result"
    }
   ],
   "source": [
    "y_test_pred.shape"
   ]
  },
  {
   "cell_type": "code",
   "execution_count": 19,
   "metadata": {},
   "outputs": [
    {
     "data": {
      "text/html": [
       "<div>\n",
       "<style scoped>\n",
       "    .dataframe tbody tr th:only-of-type {\n",
       "        vertical-align: middle;\n",
       "    }\n",
       "\n",
       "    .dataframe tbody tr th {\n",
       "        vertical-align: top;\n",
       "    }\n",
       "\n",
       "    .dataframe thead th {\n",
       "        text-align: right;\n",
       "    }\n",
       "</style>\n",
       "<table border=\"1\" class=\"dataframe\">\n",
       "  <thead>\n",
       "    <tr style=\"text-align: right;\">\n",
       "      <th></th>\n",
       "      <th>0</th>\n",
       "      <th>1</th>\n",
       "      <th>2</th>\n",
       "      <th>3</th>\n",
       "      <th>4</th>\n",
       "      <th>5</th>\n",
       "      <th>6</th>\n",
       "      <th>7</th>\n",
       "      <th>8</th>\n",
       "      <th>9</th>\n",
       "    </tr>\n",
       "  </thead>\n",
       "  <tbody>\n",
       "    <tr>\n",
       "      <th>0</th>\n",
       "      <td>3.796711e-12</td>\n",
       "      <td>2.652959e-12</td>\n",
       "      <td>2.059882e-08</td>\n",
       "      <td>3.307889e-06</td>\n",
       "      <td>3.272547e-18</td>\n",
       "      <td>9.282589e-11</td>\n",
       "      <td>2.933753e-16</td>\n",
       "      <td>9.999967e-01</td>\n",
       "      <td>1.209711e-10</td>\n",
       "      <td>4.592330e-08</td>\n",
       "    </tr>\n",
       "    <tr>\n",
       "      <th>1</th>\n",
       "      <td>3.231471e-11</td>\n",
       "      <td>5.319081e-08</td>\n",
       "      <td>1.000000e+00</td>\n",
       "      <td>1.486767e-09</td>\n",
       "      <td>2.832140e-19</td>\n",
       "      <td>1.690367e-12</td>\n",
       "      <td>2.508506e-11</td>\n",
       "      <td>7.602307e-19</td>\n",
       "      <td>1.902119e-09</td>\n",
       "      <td>5.331110e-18</td>\n",
       "    </tr>\n",
       "    <tr>\n",
       "      <th>2</th>\n",
       "      <td>2.045858e-08</td>\n",
       "      <td>9.991222e-01</td>\n",
       "      <td>3.435578e-04</td>\n",
       "      <td>4.912526e-08</td>\n",
       "      <td>4.961033e-06</td>\n",
       "      <td>6.443893e-07</td>\n",
       "      <td>1.626363e-06</td>\n",
       "      <td>1.801484e-04</td>\n",
       "      <td>3.468152e-04</td>\n",
       "      <td>1.747640e-08</td>\n",
       "    </tr>\n",
       "    <tr>\n",
       "      <th>3</th>\n",
       "      <td>9.999980e-01</td>\n",
       "      <td>1.811872e-11</td>\n",
       "      <td>1.861081e-06</td>\n",
       "      <td>2.689628e-11</td>\n",
       "      <td>3.700573e-13</td>\n",
       "      <td>6.596430e-10</td>\n",
       "      <td>1.625927e-07</td>\n",
       "      <td>6.357512e-09</td>\n",
       "      <td>1.004129e-13</td>\n",
       "      <td>2.307705e-08</td>\n",
       "    </tr>\n",
       "    <tr>\n",
       "      <th>4</th>\n",
       "      <td>1.108941e-10</td>\n",
       "      <td>8.840528e-13</td>\n",
       "      <td>7.023003e-09</td>\n",
       "      <td>1.641068e-12</td>\n",
       "      <td>9.999671e-01</td>\n",
       "      <td>4.455092e-13</td>\n",
       "      <td>7.003552e-09</td>\n",
       "      <td>2.096153e-08</td>\n",
       "      <td>2.777511e-10</td>\n",
       "      <td>3.294671e-05</td>\n",
       "    </tr>\n",
       "  </tbody>\n",
       "</table>\n",
       "</div>"
      ],
      "text/plain": [
       "              0             1             2             3             4  \\\n",
       "0  3.796711e-12  2.652959e-12  2.059882e-08  3.307889e-06  3.272547e-18   \n",
       "1  3.231471e-11  5.319081e-08  1.000000e+00  1.486767e-09  2.832140e-19   \n",
       "2  2.045858e-08  9.991222e-01  3.435578e-04  4.912526e-08  4.961033e-06   \n",
       "3  9.999980e-01  1.811872e-11  1.861081e-06  2.689628e-11  3.700573e-13   \n",
       "4  1.108941e-10  8.840528e-13  7.023003e-09  1.641068e-12  9.999671e-01   \n",
       "\n",
       "              5             6             7             8             9  \n",
       "0  9.282589e-11  2.933753e-16  9.999967e-01  1.209711e-10  4.592330e-08  \n",
       "1  1.690367e-12  2.508506e-11  7.602307e-19  1.902119e-09  5.331110e-18  \n",
       "2  6.443893e-07  1.626363e-06  1.801484e-04  3.468152e-04  1.747640e-08  \n",
       "3  6.596430e-10  1.625927e-07  6.357512e-09  1.004129e-13  2.307705e-08  \n",
       "4  4.455092e-13  7.003552e-09  2.096153e-08  2.777511e-10  3.294671e-05  "
      ]
     },
     "execution_count": 19,
     "metadata": {},
     "output_type": "execute_result"
    }
   ],
   "source": [
    "pd.DataFrame(y_test_pred).head()"
   ]
  },
  {
   "cell_type": "code",
   "execution_count": 21,
   "metadata": {},
   "outputs": [],
   "source": [
    "model.save(\"mnist.h5\")"
   ]
  },
  {
   "cell_type": "code",
   "execution_count": 22,
   "metadata": {},
   "outputs": [],
   "source": [
    "model = keras.models.load_model(\"mnist.h5\")"
   ]
  },
  {
   "cell_type": "code",
   "execution_count": 24,
   "metadata": {},
   "outputs": [
    {
     "name": "stdout",
     "output_type": "stream",
     "text": [
      "_________________________________________________________________\n",
      "Layer (type)                 Output Shape              Param #   \n",
      "=================================================================\n",
      "dense_3 (Dense)              (None, 400)               314000    \n",
      "_________________________________________________________________\n",
      "dense_4 (Dense)              (None, 10)                4010      \n",
      "=================================================================\n",
      "Total params: 318,010\n",
      "Trainable params: 318,010\n",
      "Non-trainable params: 0\n",
      "_________________________________________________________________\n"
     ]
    }
   ],
   "source": [
    "model.summary()"
   ]
  },
  {
   "cell_type": "code",
   "execution_count": 20,
   "metadata": {},
   "outputs": [
    {
     "data": {
      "text/plain": [
       "array([7, 2, 1, ..., 4, 5, 6])"
      ]
     },
     "execution_count": 20,
     "metadata": {},
     "output_type": "execute_result"
    }
   ],
   "source": [
    "np.argmax(y_test_pred, axis=1)"
   ]
  },
  {
   "cell_type": "code",
   "execution_count": null,
   "metadata": {},
   "outputs": [],
   "source": []
  }
 ],
 "metadata": {
  "kernelspec": {
   "display_name": "Python 3",
   "language": "python",
   "name": "python3"
  },
  "language_info": {
   "codemirror_mode": {
    "name": "ipython",
    "version": 3
   },
   "file_extension": ".py",
   "mimetype": "text/x-python",
   "name": "python",
   "nbconvert_exporter": "python",
   "pygments_lexer": "ipython3",
   "version": "3.6.4"
  }
 },
 "nbformat": 4,
 "nbformat_minor": 2
}
